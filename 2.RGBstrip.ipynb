{
 "cells": [
  {
   "cell_type": "code",
   "execution_count": null,
   "metadata": {},
   "outputs": [],
   "source": [
    "# I2C 통신\n",
    "# Master-Slave"
   ]
  },
  {
   "cell_type": "code",
   "execution_count": 2,
   "metadata": {},
   "outputs": [],
   "source": [
    "from RGB_Lib import Programing_RGB\n",
    "strip = Programing_RGB()"
   ]
  },
  {
   "cell_type": "code",
   "execution_count": 6,
   "metadata": {},
   "outputs": [],
   "source": [
    "red = 0xff # 16진수\n",
    "green = 0xff\n",
    "blue = 0x00"
   ]
  },
  {
   "cell_type": "code",
   "execution_count": 6,
   "metadata": {},
   "outputs": [],
   "source": [
    "# set_All_RGB -> control all LED\n",
    "strip.Set_All_RGB(red,green,blue)"
   ]
  },
  {
   "cell_type": "code",
   "execution_count": 11,
   "metadata": {},
   "outputs": [],
   "source": [
    "# set_An_RGB -> control each LED\n",
    "# right back -> 0 / left back -> 5\n",
    "strip.Set_An_RGB(1, 0xff,0xff,0xff)\n",
    "strip.Set_An_RGB(4, 0x00,0xff,0xff)\n",
    "strip.Set_An_RGB(7, 0x00,0xff,0x00)"
   ]
  },
  {
   "cell_type": "code",
   "execution_count": 15,
   "metadata": {},
   "outputs": [],
   "source": [
    "strip.Set_An_RGB(8, 0xff,0x00,0x00)\n",
    "strip.Set_An_RGB(9, 0xff,0xff,0x00)\n",
    "strip.Set_An_RGB(2, 0x00,0xff,0x00)\n",
    "strip.Set_An_RGB(0, 0xff,0x00,0x00)\n",
    "strip.Set_An_RGB(3, 0x00,0xff,0x00)\n",
    "strip.Set_An_RGB(5, 0xff,0x00,0xff)\n",
    "strip.Set_An_RGB(6, 0xff,0xff,0x00)"
   ]
  },
  {
   "cell_type": "code",
   "execution_count": null,
   "metadata": {},
   "outputs": [],
   "source": [
    "# n진법\n",
    "# 0,1 -> 2개 -> 2진법\n",
    "# 16진법 -> 16개\n",
    "# 16진법 -> 0~9,A,B,C,D,E,F"
   ]
  },
  {
   "cell_type": "code",
   "execution_count": 21,
   "metadata": {},
   "outputs": [],
   "source": [
    "strip.Set_An_RGB(2, 0x48,0x3d,0x8b) # color(HEX) : #483d8b\n",
    "strip.Set_An_RGB(0, 0x00,0x80,0x00) # color(HEX) : #008000\n",
    "strip.Set_An_RGB(1, 0x77,0x88,0x99)\n",
    "strip.Set_An_RGB(4, 0xba,0x55,0xd3)"
   ]
  },
  {
   "cell_type": "code",
   "execution_count": 48,
   "metadata": {},
   "outputs": [],
   "source": [
    "strip.OFF_ALL_RGB()"
   ]
  },
  {
   "cell_type": "code",
   "execution_count": 36,
   "metadata": {},
   "outputs": [],
   "source": [
    "# Christmas - RGRGRGRGRGRG...\n",
    "def Christmas():\n",
    "    for i in range(0,10) :\n",
    "        if i%2 == 0 :\n",
    "            strip.Set_An_RGB(i,0x00,0xff,0x00)\n",
    "        else : \n",
    "            strip.Set_An_RGB(i,0xff,0x00,0x00)\n",
    "\n",
    "# Christmas - GRGRGRGR...\n",
    "def Christmas2():\n",
    "    for i in range(0,10) :\n",
    "        if i%2 == 0:\n",
    "            strip.Set_An_RGB(i,0xff,0x00,0x00)\n",
    "        else :\n",
    "            strip.Set_An_RGB(i,0x00,0xff,0x00)"
   ]
  },
  {
   "cell_type": "code",
   "execution_count": 38,
   "metadata": {},
   "outputs": [],
   "source": [
    "import time\n",
    "for i in range(11):\n",
    "    Christmas()\n",
    "    time.sleep(0.5)\n",
    "    Christmas2()\n",
    "    time.sleep(0.5)\n",
    "strip.OFF_ALL_RGB()"
   ]
  },
  {
   "cell_type": "code",
   "execution_count": 40,
   "metadata": {},
   "outputs": [],
   "source": [
    "strip.Set_WaterfallLight_RGB()"
   ]
  },
  {
   "cell_type": "code",
   "execution_count": 46,
   "metadata": {},
   "outputs": [],
   "source": [
    "strip.Set_ChameleonLight_RGB()"
   ]
  },
  {
   "cell_type": "code",
   "execution_count": 47,
   "metadata": {},
   "outputs": [],
   "source": [
    "strip.Set_BreathSSpeed_RGB(5)"
   ]
  }
 ],
 "metadata": {
  "kernelspec": {
   "display_name": "Python 3",
   "language": "python",
   "name": "python3"
  },
  "language_info": {
   "codemirror_mode": {
    "name": "ipython",
    "version": 3
   },
   "file_extension": ".py",
   "mimetype": "text/x-python",
   "name": "python",
   "nbconvert_exporter": "python",
   "pygments_lexer": "ipython3",
   "version": "3.6.9"
  }
 },
 "nbformat": 4,
 "nbformat_minor": 4
}
