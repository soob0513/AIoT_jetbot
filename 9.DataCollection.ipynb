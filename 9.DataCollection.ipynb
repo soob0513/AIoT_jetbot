{
 "cells": [
  {
   "cell_type": "markdown",
   "metadata": {},
   "source": [
    "### 신호등 데이터 수집을 위한 활동"
   ]
  },
  {
   "cell_type": "code",
   "execution_count": 1,
   "metadata": {},
   "outputs": [
    {
     "data": {
      "application/vnd.jupyter.widget-view+json": {
       "model_id": "81c4289fcc5d49e0a5a30d4a9f5381ab",
       "version_major": 2,
       "version_minor": 0
      },
      "text/plain": [
       "Image(value=b'\\xff\\xd8\\xff\\xe0\\x00\\x10JFIF\\x00\\x01\\x01\\x00\\x00\\x01\\x00\\x01\\x00\\x00\\xff\\xdb\\x00C\\x00\\x02\\x01\\x0…"
      ]
     },
     "metadata": {},
     "output_type": "display_data"
    }
   ],
   "source": [
    "from jetbot import Camera, bgr8_to_jpeg\n",
    "import ipywidgets.widgets as widgets\n",
    "from IPython.display import display\n",
    "import traitlets \n",
    "camera = Camera.instance(width=224, height=224)\n",
    "image = widgets.Image(format='jpeg', width=224, height=224)\n",
    "camera_link = traitlets.dlink((camera, 'value'), (image, 'value'), transform = bgr8_to_jpeg)\n",
    "display(image)"
   ]
  },
  {
   "cell_type": "code",
   "execution_count": null,
   "metadata": {},
   "outputs": [],
   "source": [
    "camera_link.unlink()"
   ]
  },
  {
   "cell_type": "code",
   "execution_count": 6,
   "metadata": {},
   "outputs": [
    {
     "name": "stdout",
     "output_type": "stream",
     "text": [
      "파일이 이미 존재합니다.\n"
     ]
    }
   ],
   "source": [
    "# 데이터를 저장하기 위해 red, green 데이터가 들어갈 폴더를 생성\n",
    "import os \n",
    "red_dir = 'dataset/red'     # red 폴더\n",
    "green_dir = 'dataset/green' # green 폴더\n",
    "try :\n",
    "    os.makedirs(red_dir)\n",
    "    os.makedirs(green_dir)\n",
    "except FileExistsError :\n",
    "    print(\"파일이 이미 존재합니다.\")"
   ]
  },
  {
   "cell_type": "code",
   "execution_count": 7,
   "metadata": {},
   "outputs": [
    {
     "data": {
      "application/vnd.jupyter.widget-view+json": {
       "model_id": "68008ae224924d63bc4a6a8524ecccb3",
       "version_major": 2,
       "version_minor": 0
      },
      "text/plain": [
       "HBox(children=(IntText(value=0, layout=Layout(height='30px', width='128px')), Button(button_style='danger', de…"
      ]
     },
     "metadata": {},
     "output_type": "display_data"
    },
    {
     "data": {
      "application/vnd.jupyter.widget-view+json": {
       "model_id": "23cb8152bf394a1c8911b3efb3b790ab",
       "version_major": 2,
       "version_minor": 0
      },
      "text/plain": [
       "HBox(children=(IntText(value=0, layout=Layout(height='30px', width='128px')), Button(button_style='success', d…"
      ]
     },
     "metadata": {},
     "output_type": "display_data"
    }
   ],
   "source": [
    "# 빨간색 버튼을 누르면 몇 번 눌렸는지 지금까지 수집한 데이터 개수를 알려주는 텍스트박스 생성!\n",
    "# danger 빨강, warning 노랑, info 파랑, success 초록\n",
    "button_layout = widgets.Layout(width='128px', height='30px') # 버튼의 사이즈 설정 \n",
    "red_button = widgets.Button(description='red data', button_style='danger',layout = button_layout)\n",
    "red_count = widgets.IntText(layout = button_layout, value = len(os.listdir(red_dir)))\n",
    "green_button = widgets.Button(description='green data', button_style='success',layout = button_layout)\n",
    "green_count = widgets.IntText(layout = button_layout, value = len(os.listdir(green_dir)))\n",
    "\n",
    "display(widgets.HBox([red_count, red_button])) # 수평선에 버튼, 텍스트박스 위치하도록\n",
    "display(widgets.HBox([green_count, green_button]))"
   ]
  },
  {
   "cell_type": "code",
   "execution_count": 8,
   "metadata": {},
   "outputs": [],
   "source": [
    "# Universally Unique Identifier, UUID -> 겹치지 않게 알아서 이름 생성하는 라이브러리\n",
    "# uuid1, uuid2, uuid3, ... \n",
    "from uuid import uuid1 # uuid1 -> 현재 시간과 네트워크 주소(ip주소)를 기반으로 고유식별자를 생성! \n",
    "\n",
    "# 사진 저장하는 함수\n",
    "def save_snapshot(directory) :\n",
    "    image_path = os.path.join(directory, str(uuid1()) + '.jpg')\n",
    "    with open(image_path, 'wb') as f :  # open -> 파일 열기 / with -> 로직 실행 후 자동으로 close\n",
    "                                        # wb -> 쓰기 전용 / rb -> 읽기 전용 \n",
    "                                        # f라는 변수에 담아서 파일 열어줘\n",
    "        f.write(image.value)  # 파일 열 때마다 무조건 저장\n",
    "        \n",
    "# 빨, 초 따로따로 저장하는 함수\n",
    "def save_red() :\n",
    "    global red_dir, red_count\n",
    "    save_snapshot(red_dir)\n",
    "    red_count.value = len(os.listdir(red_dir))\n",
    "    \n",
    "def save_green() :\n",
    "    global green_dir, green_count\n",
    "    save_snapshot(green_dir)\n",
    "    green_count.value = len(os.listdir(green_dir))\n",
    "\n",
    "# 버튼 각각이 눌렸을 때 저장하는 함수가 실행되도록\n",
    "def on_click_save_red(x) :\n",
    "    save_red()\n",
    "\n",
    "def on_click_save_green(x):\n",
    "    save_green()\n",
    "    \n",
    "# on_click으로 버튼과 연결\n",
    "red_button.on_click(on_click_save_red)\n",
    "green_button.on_click(on_click_save_green)"
   ]
  }
 ],
 "metadata": {
  "kernelspec": {
   "display_name": "Python 3",
   "language": "python",
   "name": "python3"
  },
  "language_info": {
   "codemirror_mode": {
    "name": "ipython",
    "version": 3
   },
   "file_extension": ".py",
   "mimetype": "text/x-python",
   "name": "python",
   "nbconvert_exporter": "python",
   "pygments_lexer": "ipython3",
   "version": "3.6.9"
  }
 },
 "nbformat": 4,
 "nbformat_minor": 4
}
