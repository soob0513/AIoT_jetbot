{
 "cells": [
  {
   "cell_type": "markdown",
   "metadata": {},
   "source": [
    "<center><img src=\"../../Picture Data/logo.png\" alt=\"Header\" style=\"width: 800px;\"/></center>"
   ]
  },
  {
   "cell_type": "markdown",
   "metadata": {},
   "source": [
    "@Copyright (C): 2010-2019, Shenzhen Yahboom Tech  \n",
    "@Author: Malloy.Yuan  \n",
    "@Date: 2019-07-17 10:10:02  \n",
    "@LastEditors: Malloy.Yuan  \n",
    "@LastEditTime: 2019-09-17 17:54:19  "
   ]
  },
  {
   "cell_type": "markdown",
   "metadata": {},
   "source": [
    "### Import Yahboom official packaged serial bus servo drive library\n",
    "Create and initialize a programmable servo control object"
   ]
  },
  {
   "cell_type": "code",
   "execution_count": 2,
   "metadata": {},
   "outputs": [
    {
     "name": "stdout",
     "output_type": "stream",
     "text": [
      "serial Open!\n"
     ]
    }
   ],
   "source": [
    "from servoserial import ServoSerial\n",
    "import time\n",
    "servo_device = ServoSerial() "
   ]
  },
  {
   "cell_type": "markdown",
   "metadata": {},
   "source": [
    "### Make servo rotate to the center position by asynchronous commands"
   ]
  },
  {
   "cell_type": "code",
   "execution_count": 14,
   "metadata": {},
   "outputs": [
    {
     "name": "stdout",
     "output_type": "stream",
     "text": [
      "132\n",
      "b'\\xff\\xff\\x01\\x07\\x03*\\x084\\x00\\n\\x84'\n",
      "232\n",
      "b'\\xff\\xff\\x02\\x07\\x03*\\x07\\xd0\\x00\\n\\xe8'\n"
     ]
    }
   ],
   "source": [
    "servo_device.Servo_serial_control(1, 2100) # side : 600 ~ 3600 \n",
    "time.sleep(0.1)\n",
    "servo_device.Servo_serial_control(2, 2048) # updown : 1300 ~ 4095"
   ]
  },
  {
   "cell_type": "markdown",
   "metadata": {},
   "source": [
    "### Make servo rotate to 1300  by asynchronous commands"
   ]
  },
  {
   "cell_type": "code",
   "execution_count": 11,
   "metadata": {},
   "outputs": [
    {
     "name": "stdout",
     "output_type": "stream",
     "text": [
      "167\n",
      "b'\\xff\\xff\\x01\\x07\\x03*\\x05\\x14\\x00\\n\\xa7'\n",
      "166\n",
      "b'\\xff\\xff\\x02\\x07\\x03*\\x05\\x14\\x00\\n\\xa6'\n"
     ]
    }
   ],
   "source": [
    "servo_device.Servo_serial_control(1, 1300)\n",
    "time.sleep(0.1)\n",
    "servo_device.Servo_serial_control(2, 1300)"
   ]
  },
  {
   "cell_type": "code",
   "execution_count": 9,
   "metadata": {},
   "outputs": [
    {
     "name": "stdout",
     "output_type": "stream",
     "text": [
      "132\n",
      "b'\\xff\\xff\\x01\\x07\\x03*\\x084\\x00\\n\\x84'\n",
      "12\n",
      "b'\\xff\\xff\\x01\\x07\\x03*\\x04\\xb0\\x00\\n\\x0c'\n",
      "253\n",
      "b'\\xff\\xff\\x01\\x07\\x03*\\x0b\\xb8\\x00\\n\\xfd'\n",
      "131\n",
      "b'\\xff\\xff\\x02\\x07\\x03*\\x084\\x00\\n\\x83'\n",
      "42\n",
      "b'\\xff\\xff\\x01\\x07\\x03*\\n\\x8c\\x00\\n*'\n"
     ]
    }
   ],
   "source": [
    "servo_device.Servo_serial_control(1, 2100)\n",
    "\n",
    "servo_device.Servo_serial_control(1, 1200)\n",
    "servo_device.Servo_serial_control(1, 3000)\n",
    "time.sleep(0.1)\n",
    "servo_device.Servo_serial_control(2, 2100)\n",
    "servo_device.Servo_serial_control(1, 2700)"
   ]
  },
  {
   "cell_type": "markdown",
   "metadata": {},
   "source": [
    "### Make servo rotate to 3600 by asynchronous commands"
   ]
  },
  {
   "cell_type": "code",
   "execution_count": 12,
   "metadata": {},
   "outputs": [
    {
     "name": "stdout",
     "output_type": "stream",
     "text": [
      "162\n",
      "b'\\xff\\xff\\x01\\x07\\x03*\\x0e\\x10\\x00\\n\\xa2'\n",
      "161\n",
      "b'\\xff\\xff\\x02\\x07\\x03*\\x0e\\x10\\x00\\n\\xa1'\n"
     ]
    }
   ],
   "source": [
    "servo_device.Servo_serial_control(1, 3600) \n",
    "time.sleep(0.1)\n",
    "servo_device.Servo_serial_control(2, 3600)"
   ]
  },
  {
   "cell_type": "code",
   "execution_count": 13,
   "metadata": {},
   "outputs": [
    {
     "name": "stdout",
     "output_type": "stream",
     "text": [
      "132\n",
      "b'\\xff\\xff\\x01\\x07\\x03*\\x084\\x00\\n\\x84'\n"
     ]
    }
   ],
   "source": [
    "servo_device.Servo_serial_control(1, 2100)"
   ]
  },
  {
   "cell_type": "code",
   "execution_count": 21,
   "metadata": {},
   "outputs": [
    {
     "name": "stdout",
     "output_type": "stream",
     "text": [
      "2\n",
      "b'\\xff\\xff\\x01\\x07\\x03*\\x02\\xbc\\x00\\n\\x02'\n",
      "252\n",
      "b'\\xff\\xff\\x02\\x07\\x03*\\x0b\\xb8\\x00\\n\\xfc'\n"
     ]
    }
   ],
   "source": [
    "servo_device.Servo_serial_control(1, 700) # 600 ~ 3600\n",
    "time.sleep(0.1)\n",
    "servo_device.Servo_serial_control(2, 3000)"
   ]
  },
  {
   "cell_type": "code",
   "execution_count": 27,
   "metadata": {},
   "outputs": [
    {
     "name": "stdout",
     "output_type": "stream",
     "text": [
      "230\n",
      "b'\\xff\\xff\\xfe\\x0e\\x83*\\x04\\x01\\x07\\xd0\\x00\\n\\x02\\x08f\\x00\\n\\xe6'\n"
     ]
    }
   ],
   "source": [
    "# front \n",
    "servo_device.Servo_serial_double_control(1, 2000, 2, 2150)"
   ]
  },
  {
   "cell_type": "code",
   "execution_count": 37,
   "metadata": {},
   "outputs": [
    {
     "name": "stdout",
     "output_type": "stream",
     "text": [
      "84\n",
      "b'\\xff\\xff\\xfe\\x0e\\x83*\\x04\\x01\\x0e\\x10\\x00\\n\\x02\\r\\xac\\x00\\nT'\n"
     ]
    }
   ],
   "source": [
    "# 1(right side) : 600 ~ 2000\n",
    "# 1(left side) : 2000 ~ 3600\n",
    "# 2(updown) : 1300 ~ 4095\n",
    "# 2(up) : 3500\n",
    "servo_device.Servo_serial_double_control(1, 3600, 2, 3500)"
   ]
  }
 ],
 "metadata": {
  "kernelspec": {
   "display_name": "Python 3",
   "language": "python",
   "name": "python3"
  },
  "language_info": {
   "codemirror_mode": {
    "name": "ipython",
    "version": 3
   },
   "file_extension": ".py",
   "mimetype": "text/x-python",
   "name": "python",
   "nbconvert_exporter": "python",
   "pygments_lexer": "ipython3",
   "version": "3.6.9"
  }
 },
 "nbformat": 4,
 "nbformat_minor": 4
}
