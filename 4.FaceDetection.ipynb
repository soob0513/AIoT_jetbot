{
 "cells": [
  {
   "cell_type": "markdown",
   "metadata": {},
   "source": [
    "## Face Detection\n",
    "- Face Tracking 진행예정!"
   ]
  },
  {
   "cell_type": "markdown",
   "metadata": {},
   "source": [
    "### 1. 카메라 인스턴스 생성"
   ]
  },
  {
   "cell_type": "code",
   "execution_count": 2,
   "metadata": {},
   "outputs": [],
   "source": [
    "from jetbot import Camera # 카메라 관련 라이브러리\n",
    "from jetbot import bgr8_to_jpeg # bgr type -> jpeg 변환\n",
    "camera = Camera.instance(width=720, height=720)"
   ]
  },
  {
   "cell_type": "code",
   "execution_count": null,
   "metadata": {},
   "outputs": [],
   "source": [
    "# 오류?\n",
    "# 1) 왼쪽 정지 버튼 -> 전체 커널 SHUT DOWN\n",
    "# 2) 커널 restart\n",
    "# 3) 재부팅\n",
    "# 4) 카메라 접촉불량.. -> 카메라 교체"
   ]
  },
  {
   "cell_type": "markdown",
   "metadata": {},
   "source": [
    "### 2. 카메라 프리뷰 생성"
   ]
  },
  {
   "cell_type": "code",
   "execution_count": 3,
   "metadata": {},
   "outputs": [
    {
     "data": {
      "application/vnd.jupyter.widget-view+json": {
       "model_id": "91679bb460514891aab7df2636209d20",
       "version_major": 2,
       "version_minor": 0
      },
      "text/plain": [
       "Image(value=b'', format='jpeg', height='300', width='300')"
      ]
     },
     "metadata": {},
     "output_type": "display_data"
    }
   ],
   "source": [
    "import ipywidgets.widgets as widgets # 파이썬에서 위젯을 활용할 수 있는 라이브러리\n",
    "from IPython.display import display # 실제 이미지를 display할 수 있는 라이브러리\n",
    "detect_face = widgets.Image(width = 300, height = 300, format = 'jpeg')\n",
    "display(detect_face)"
   ]
  },
  {
   "cell_type": "code",
   "execution_count": null,
   "metadata": {},
   "outputs": [],
   "source": [
    "# 카메라 테스트\n",
    "while 1: \n",
    "    detect_face.value = bgr8_to_jpeg(camera.value) "
   ]
  },
  {
   "cell_type": "markdown",
   "metadata": {},
   "source": [
    "## HarrCascade"
   ]
  },
  {
   "cell_type": "markdown",
   "metadata": {},
   "source": [
    "### 학습된 모델을 가져오자!!\n",
    "- https://github.com/opencv/opencv/tree/master/data/haarcascades"
   ]
  },
  {
   "cell_type": "code",
   "execution_count": null,
   "metadata": {},
   "outputs": [],
   "source": [
    "# https://github.com/opencv/opencv/raw/master/data/haarcascades/haarcascade_frontalface_default.xml"
   ]
  },
  {
   "cell_type": "code",
   "execution_count": 9,
   "metadata": {},
   "outputs": [
    {
     "name": "stdout",
     "output_type": "stream",
     "text": [
      "  % Total    % Received % Xferd  Average Speed   Time    Time     Time  Current\n",
      "                                 Dload  Upload   Total   Spent    Left  Speed\n",
      "  0     0    0     0    0     0      0      0 --:--:--  0:00:01 --:--:--     0\n",
      "100  908k  100  908k    0     0   115k      0  0:00:07  0:00:07 --:--:--  173k\n"
     ]
    }
   ],
   "source": [
    "# curl 명령어 통해서 링크로 학습된 데이터 가져오기!\n",
    "# 안되면 터미널창에 sudo apt-get install curl\n",
    "!curl -L -O https://github.com/opencv/opencv/raw/master/data/haarcascades/haarcascade_frontalface_default.xml"
   ]
  },
  {
   "cell_type": "code",
   "execution_count": 4,
   "metadata": {},
   "outputs": [],
   "source": [
    "import cv2\n",
    "face_cascade = cv2.CascadeClassifier('haarcascade_frontalface_default.xml')\n",
    "face_x = face_y = face_w = face_h = 0  # 얼굴을 표시할 좌표를 0으로 초기화"
   ]
  },
  {
   "cell_type": "code",
   "execution_count": 5,
   "metadata": {},
   "outputs": [
    {
     "ename": "KeyboardInterrupt",
     "evalue": "",
     "output_type": "error",
     "traceback": [
      "\u001b[0;31m---------------------------------------------------------------------------\u001b[0m",
      "\u001b[0;31mKeyboardInterrupt\u001b[0m                         Traceback (most recent call last)",
      "\u001b[0;32m<ipython-input-5-26eece16bd9e>\u001b[0m in \u001b[0;36m<module>\u001b[0;34m\u001b[0m\n\u001b[1;32m      3\u001b[0m     \u001b[0mcv2\u001b[0m\u001b[0;34m.\u001b[0m\u001b[0mresize\u001b[0m\u001b[0;34m(\u001b[0m\u001b[0mframe\u001b[0m\u001b[0;34m,\u001b[0m\u001b[0;34m(\u001b[0m\u001b[0;36m300\u001b[0m\u001b[0;34m,\u001b[0m\u001b[0;36m300\u001b[0m\u001b[0;34m)\u001b[0m\u001b[0;34m)\u001b[0m \u001b[0;31m# 학습된 데이터의 이미지가 300*300픽셀\u001b[0m\u001b[0;34m\u001b[0m\u001b[0;34m\u001b[0m\u001b[0m\n\u001b[1;32m      4\u001b[0m     \u001b[0mgray\u001b[0m \u001b[0;34m=\u001b[0m \u001b[0mcv2\u001b[0m\u001b[0;34m.\u001b[0m\u001b[0mcvtColor\u001b[0m\u001b[0;34m(\u001b[0m\u001b[0mframe\u001b[0m\u001b[0;34m,\u001b[0m \u001b[0mcv2\u001b[0m\u001b[0;34m.\u001b[0m\u001b[0mCOLOR_BGR2GRAY\u001b[0m\u001b[0;34m)\u001b[0m \u001b[0;31m# 흑백으로 변경\u001b[0m\u001b[0;34m\u001b[0m\u001b[0;34m\u001b[0m\u001b[0m\n\u001b[0;32m----> 5\u001b[0;31m     \u001b[0mfaces\u001b[0m \u001b[0;34m=\u001b[0m \u001b[0mface_cascade\u001b[0m\u001b[0;34m.\u001b[0m\u001b[0mdetectMultiScale\u001b[0m\u001b[0;34m(\u001b[0m\u001b[0mgray\u001b[0m\u001b[0;34m)\u001b[0m \u001b[0;31m# 흑백이미지 내에서 얼굴 검출\u001b[0m\u001b[0;34m\u001b[0m\u001b[0;34m\u001b[0m\u001b[0m\n\u001b[0m\u001b[1;32m      6\u001b[0m     \u001b[0;32mif\u001b[0m \u001b[0mlen\u001b[0m\u001b[0;34m(\u001b[0m\u001b[0mfaces\u001b[0m\u001b[0;34m)\u001b[0m \u001b[0;34m>\u001b[0m \u001b[0;36m0\u001b[0m\u001b[0;34m:\u001b[0m\u001b[0;34m\u001b[0m\u001b[0;34m\u001b[0m\u001b[0m\n\u001b[1;32m      7\u001b[0m         \u001b[0;34m(\u001b[0m\u001b[0mface_x\u001b[0m\u001b[0;34m,\u001b[0m\u001b[0mface_y\u001b[0m\u001b[0;34m,\u001b[0m\u001b[0mface_w\u001b[0m\u001b[0;34m,\u001b[0m\u001b[0mface_h\u001b[0m\u001b[0;34m)\u001b[0m \u001b[0;34m=\u001b[0m \u001b[0mfaces\u001b[0m\u001b[0;34m[\u001b[0m\u001b[0;36m0\u001b[0m\u001b[0;34m]\u001b[0m\u001b[0;34m\u001b[0m\u001b[0;34m\u001b[0m\u001b[0m\n",
      "\u001b[0;31mKeyboardInterrupt\u001b[0m: "
     ]
    }
   ],
   "source": [
    "while 1:\n",
    "    frame = camera.value  # 실시간으로 돌아가는 카메라 이미지\n",
    "    cv2.resize(frame,(300,300)) # 학습된 데이터의 이미지가 300*300픽셀\n",
    "    gray = cv2.cvtColor(frame, cv2.COLOR_BGR2GRAY) # 흑백으로 변경\n",
    "    faces = face_cascade.detectMultiScale(gray) # 흑백이미지 내에서 얼굴 검출\n",
    "    if len(faces) > 0:\n",
    "        (face_x,face_y,face_w,face_h) = faces[0]\n",
    "        # 직사각형 그리기!\n",
    "        cv2.rectangle(frame,(face_x,face_y),(face_x+face_w,face_y+face_h),(0,0,255),3)\n",
    "    detect_face.value = bgr8_to_jpeg(frame)  # 카메라 출력"
   ]
  },
  {
   "cell_type": "markdown",
   "metadata": {},
   "source": [
    "### 눈 검출\n",
    "- RoI(Region of Interest) "
   ]
  },
  {
   "cell_type": "code",
   "execution_count": null,
   "metadata": {},
   "outputs": [],
   "source": [
    "# https://github.com/opencv/opencv/raw/master/data/haarcascades/haarcascade_eye.xml"
   ]
  },
  {
   "cell_type": "code",
   "execution_count": 6,
   "metadata": {},
   "outputs": [
    {
     "name": "stdout",
     "output_type": "stream",
     "text": [
      "  % Total    % Received % Xferd  Average Speed   Time    Time     Time  Current\n",
      "                                 Dload  Upload   Total   Spent    Left  Speed\n",
      "  0     0    0     0    0     0      0      0 --:--:-- --:--:-- --:--:--     0\n",
      "100  333k  100  333k    0     0  93921      0  0:00:03  0:00:03 --:--:--  178k\n"
     ]
    }
   ],
   "source": [
    "# 학습 모델 가져오기\n",
    "!curl -L -O https://github.com/opencv/opencv/raw/master/data/haarcascades/haarcascade_eye.xml"
   ]
  },
  {
   "cell_type": "code",
   "execution_count": 6,
   "metadata": {},
   "outputs": [],
   "source": [
    "# 눈 관련 cascade 모델 생성!\n",
    "import cv2\n",
    "eye_cascade = cv2.CascadeClassifier('haarcascade_eye.xml')\n",
    "# 눈 좌표 초기화\n",
    "eye_x = xye_y = eye_w = eye_h = 0"
   ]
  },
  {
   "cell_type": "code",
   "execution_count": 7,
   "metadata": {},
   "outputs": [
    {
     "ename": "TypeError",
     "evalue": "an integer is required (got type tuple)",
     "output_type": "error",
     "traceback": [
      "\u001b[0;31m---------------------------------------------------------------------------\u001b[0m",
      "\u001b[0;31mTypeError\u001b[0m                                 Traceback (most recent call last)",
      "\u001b[0;32m<ipython-input-7-d1170b70f3d8>\u001b[0m in \u001b[0;36m<module>\u001b[0;34m\u001b[0m\n\u001b[1;32m     18\u001b[0m         \u001b[0;31m# 눈이 검출되었다면!\u001b[0m\u001b[0;34m\u001b[0m\u001b[0;34m\u001b[0m\u001b[0;34m\u001b[0m\u001b[0m\n\u001b[1;32m     19\u001b[0m         \u001b[0;32mfor\u001b[0m \u001b[0meye_x\u001b[0m\u001b[0;34m,\u001b[0m\u001b[0meye_y\u001b[0m\u001b[0;34m,\u001b[0m\u001b[0meye_w\u001b[0m\u001b[0;34m,\u001b[0m\u001b[0meye_h\u001b[0m \u001b[0;32min\u001b[0m \u001b[0meyes\u001b[0m \u001b[0;34m:\u001b[0m\u001b[0;34m\u001b[0m\u001b[0;34m\u001b[0m\u001b[0m\n\u001b[0;32m---> 20\u001b[0;31m             \u001b[0mcv2\u001b[0m\u001b[0;34m.\u001b[0m\u001b[0mrectangle\u001b[0m\u001b[0;34m(\u001b[0m\u001b[0mroi_color\u001b[0m\u001b[0;34m,\u001b[0m \u001b[0;34m(\u001b[0m\u001b[0meye_x\u001b[0m\u001b[0;34m,\u001b[0m\u001b[0meye_y\u001b[0m\u001b[0;34m)\u001b[0m\u001b[0;34m,\u001b[0m\u001b[0;34m(\u001b[0m\u001b[0meye_x\u001b[0m\u001b[0;34m+\u001b[0m\u001b[0meye_w\u001b[0m\u001b[0;34m,\u001b[0m \u001b[0meye_y\u001b[0m\u001b[0;34m,\u001b[0m\u001b[0meye_h\u001b[0m\u001b[0;34m)\u001b[0m\u001b[0;34m,\u001b[0m \u001b[0;34m(\u001b[0m\u001b[0;36m255\u001b[0m\u001b[0;34m,\u001b[0m\u001b[0;36m0\u001b[0m\u001b[0;34m,\u001b[0m\u001b[0;36m0\u001b[0m\u001b[0;34m)\u001b[0m\u001b[0;34m,\u001b[0m \u001b[0;36m1\u001b[0m\u001b[0;34m)\u001b[0m\u001b[0;34m\u001b[0m\u001b[0;34m\u001b[0m\u001b[0m\n\u001b[0m\u001b[1;32m     21\u001b[0m \u001b[0;34m\u001b[0m\u001b[0m\n\u001b[1;32m     22\u001b[0m     \u001b[0mdetect_face\u001b[0m\u001b[0;34m.\u001b[0m\u001b[0mvalue\u001b[0m \u001b[0;34m=\u001b[0m \u001b[0mbgr8_to_jpeg\u001b[0m\u001b[0;34m(\u001b[0m\u001b[0mframe\u001b[0m\u001b[0;34m)\u001b[0m  \u001b[0;31m# 카메라 출력\u001b[0m\u001b[0;34m\u001b[0m\u001b[0;34m\u001b[0m\u001b[0m\n",
      "\u001b[0;31mTypeError\u001b[0m: an integer is required (got type tuple)"
     ]
    }
   ],
   "source": [
    "while 1:\n",
    "    frame = camera.value  # 실시간으로 돌아가는 카메라 이미지\n",
    "    cv2.resize(frame,(300,300)) # 학습된 데이터의 이미지가 300*300픽셀\n",
    "    gray = cv2.cvtColor(frame, cv2.COLOR_BGR2GRAY) # 흑백으로 변경\n",
    "    faces = face_cascade.detectMultiScale(gray) # 흑백이미지 내에서 얼굴 검출\n",
    "    if len(faces) > 0:\n",
    "        (face_x,face_y,face_w,face_h) = faces[0]\n",
    "        # 직사각형 그리기!\n",
    "        cv2.rectangle(frame,(face_x,face_y),(face_x+face_w,face_y+face_h),(0,0,255),3)\n",
    "        \n",
    "        # 눈이 검출된다 -> 먼저 얼굴이 검출되어야 함!\n",
    "        roi_region = gray[face_y: face_y+face_h, face_x: face_x+face_w]\n",
    "                    # -> gray 전체 프레임에서 얼굴 영역만 슬라이싱!\n",
    "        roi_color = frame[face_y: face_y+face_h, face_x: face_x+face_w]\n",
    "                    # -> 눈을 표시할 수 있는 도형을 컬러프레임에 찍기 위함!\n",
    "        eyes = eye_cascade.detectMultiScale(roi_region)\n",
    "        \n",
    "        # 눈이 검출되었다면!\n",
    "        for eye_x,eye_y,eye_w,eye_h in eyes :\n",
    "            cv2.rectangle(roi_color, (eye_x,eye_y),(eye_x+eye_w, eye_y,eye_h), (255,0,0), 1)\n",
    "            \n",
    "    detect_face.value = bgr8_to_jpeg(frame)  # 카메라 출력"
   ]
  }
 ],
 "metadata": {
  "kernelspec": {
   "display_name": "Python 3",
   "language": "python",
   "name": "python3"
  },
  "language_info": {
   "codemirror_mode": {
    "name": "ipython",
    "version": 3
   },
   "file_extension": ".py",
   "mimetype": "text/x-python",
   "name": "python",
   "nbconvert_exporter": "python",
   "pygments_lexer": "ipython3",
   "version": "3.6.9"
  }
 },
 "nbformat": 4,
 "nbformat_minor": 4
}
