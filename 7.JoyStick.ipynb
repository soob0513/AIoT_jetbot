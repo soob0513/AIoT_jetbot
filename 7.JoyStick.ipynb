{
 "cells": [
  {
   "cell_type": "markdown",
   "metadata": {},
   "source": [
    "### JoyStick\n",
    "- 1) 다이렉트로 연결 제어\n",
    "- 2) 무선으로 연결 제어"
   ]
  },
  {
   "cell_type": "code",
   "execution_count": null,
   "metadata": {},
   "outputs": [],
   "source": [
    "# jstest 찾을 수 없다 오류\n",
    "# 조이스틱 관련 라이브러리 설치하기\n",
    "# sudo apt-get install joystick -y\n",
    "# js0에서 발생하는 이벤트를 사용자가 접근할 수 있도록 파이썬에서 사용하는 라이브러리\n",
    "# sudo apt-get install python3-evdev"
   ]
  },
  {
   "cell_type": "code",
   "execution_count": 1,
   "metadata": {},
   "outputs": [
    {
     "name": "stdout",
     "output_type": "stream",
     "text": [
      "['/dev/input/event2']\n"
     ]
    }
   ],
   "source": [
    "import evdev\n",
    "print(evdev.list_devices())"
   ]
  },
  {
   "cell_type": "code",
   "execution_count": 2,
   "metadata": {},
   "outputs": [
    {
     "data": {
      "text/plain": [
       "InputDevice('/dev/input/event2')"
      ]
     },
     "execution_count": 2,
     "metadata": {},
     "output_type": "execute_result"
    }
   ],
   "source": [
    "path = '/dev/input/event2'\n",
    "device = evdev.InputDevice(path)\n",
    "device"
   ]
  },
  {
   "cell_type": "code",
   "execution_count": 3,
   "metadata": {},
   "outputs": [
    {
     "name": "stdout",
     "output_type": "stream",
     "text": [
      "event at 1719187819.617375, code 288, type 01, val 01\n",
      "1 버튼 클릭\n",
      "event at 1719187820.137622, code 291, type 01, val 01\n",
      "4 버튼 클릭\n",
      "event at 1719187820.529816, code 290, type 01, val 01\n",
      "3 버튼 클릭\n",
      "event at 1719187821.033819, code 289, type 01, val 01\n",
      "2 버튼 클릭\n",
      "event at 1719187822.169829, code 297, type 01, val 01\n",
      "Start 버튼 클릭\n",
      "event at 1719187822.761429, code 296, type 01, val 01\n",
      "Select 버튼 클릭\n",
      "event at 1719187823.609396, code 298, type 01, val 01\n",
      "왼쪽 조이스틱 클릭\n",
      "event at 1719187826.017879, code 299, type 01, val 01\n",
      "오른쪽 조이스틱 클릭\n",
      "event at 1719187828.137471, code 292, type 01, val 01\n",
      "L1 버튼 클릭\n",
      "event at 1719187828.833854, code 295, type 01, val 01\n",
      "R2 버튼 클릭\n",
      "event at 1719187829.313590, code 294, type 01, val 01\n",
      "L2 버튼 클릭\n",
      "event at 1719187829.905602, code 293, type 01, val 01\n",
      "R1 버튼 클릭\n"
     ]
    },
    {
     "ename": "KeyboardInterrupt",
     "evalue": "",
     "output_type": "error",
     "traceback": [
      "\u001b[0;31m---------------------------------------------------------------------------\u001b[0m",
      "\u001b[0;31mKeyboardInterrupt\u001b[0m                         Traceback (most recent call last)",
      "\u001b[0;32m<ipython-input-3-250e884fc7ac>\u001b[0m in \u001b[0;36m<module>\u001b[0;34m\u001b[0m\n\u001b[1;32m      1\u001b[0m \u001b[0;32mfrom\u001b[0m \u001b[0mevdev\u001b[0m \u001b[0;32mimport\u001b[0m \u001b[0mecodes\u001b[0m\u001b[0;34m\u001b[0m\u001b[0;34m\u001b[0m\u001b[0m\n\u001b[0;32m----> 2\u001b[0;31m \u001b[0;32mfor\u001b[0m \u001b[0mevent\u001b[0m \u001b[0;32min\u001b[0m \u001b[0mdevice\u001b[0m\u001b[0;34m.\u001b[0m\u001b[0mread_loop\u001b[0m\u001b[0;34m(\u001b[0m\u001b[0;34m)\u001b[0m \u001b[0;34m:\u001b[0m\u001b[0;34m\u001b[0m\u001b[0;34m\u001b[0m\u001b[0m\n\u001b[0m\u001b[1;32m      3\u001b[0m     \u001b[0;32mif\u001b[0m \u001b[0mevent\u001b[0m\u001b[0;34m.\u001b[0m\u001b[0mtype\u001b[0m \u001b[0;34m==\u001b[0m \u001b[0mecodes\u001b[0m\u001b[0;34m.\u001b[0m\u001b[0mEV_KEY\u001b[0m \u001b[0;34m:\u001b[0m\u001b[0;34m\u001b[0m\u001b[0;34m\u001b[0m\u001b[0m\n\u001b[1;32m      4\u001b[0m         \u001b[0;32mif\u001b[0m \u001b[0mevent\u001b[0m\u001b[0;34m.\u001b[0m\u001b[0mvalue\u001b[0m \u001b[0;34m==\u001b[0m \u001b[0;36m1\u001b[0m\u001b[0;34m:\u001b[0m\u001b[0;34m\u001b[0m\u001b[0;34m\u001b[0m\u001b[0m\n\u001b[1;32m      5\u001b[0m             \u001b[0mprint\u001b[0m\u001b[0;34m(\u001b[0m\u001b[0mevent\u001b[0m\u001b[0;34m)\u001b[0m\u001b[0;34m\u001b[0m\u001b[0;34m\u001b[0m\u001b[0m\n",
      "\u001b[0;32m/usr/lib/python3/dist-packages/evdev/eventio.py\u001b[0m in \u001b[0;36mread_loop\u001b[0;34m(self)\u001b[0m\n\u001b[1;32m     39\u001b[0m \u001b[0;34m\u001b[0m\u001b[0m\n\u001b[1;32m     40\u001b[0m         \u001b[0;32mwhile\u001b[0m \u001b[0;32mTrue\u001b[0m\u001b[0;34m:\u001b[0m\u001b[0;34m\u001b[0m\u001b[0;34m\u001b[0m\u001b[0m\n\u001b[0;32m---> 41\u001b[0;31m             \u001b[0mr\u001b[0m\u001b[0;34m,\u001b[0m \u001b[0mw\u001b[0m\u001b[0;34m,\u001b[0m \u001b[0mx\u001b[0m \u001b[0;34m=\u001b[0m \u001b[0mselect\u001b[0m\u001b[0;34m.\u001b[0m\u001b[0mselect\u001b[0m\u001b[0;34m(\u001b[0m\u001b[0;34m[\u001b[0m\u001b[0mself\u001b[0m\u001b[0;34m.\u001b[0m\u001b[0mfd\u001b[0m\u001b[0;34m]\u001b[0m\u001b[0;34m,\u001b[0m \u001b[0;34m[\u001b[0m\u001b[0;34m]\u001b[0m\u001b[0;34m,\u001b[0m \u001b[0;34m[\u001b[0m\u001b[0;34m]\u001b[0m\u001b[0;34m)\u001b[0m\u001b[0;34m\u001b[0m\u001b[0;34m\u001b[0m\u001b[0m\n\u001b[0m\u001b[1;32m     42\u001b[0m             \u001b[0;32mfor\u001b[0m \u001b[0mevent\u001b[0m \u001b[0;32min\u001b[0m \u001b[0mself\u001b[0m\u001b[0;34m.\u001b[0m\u001b[0mread\u001b[0m\u001b[0;34m(\u001b[0m\u001b[0;34m)\u001b[0m\u001b[0;34m:\u001b[0m\u001b[0;34m\u001b[0m\u001b[0;34m\u001b[0m\u001b[0m\n\u001b[1;32m     43\u001b[0m                 \u001b[0;32myield\u001b[0m \u001b[0mevent\u001b[0m\u001b[0;34m\u001b[0m\u001b[0;34m\u001b[0m\u001b[0m\n",
      "\u001b[0;31mKeyboardInterrupt\u001b[0m: "
     ]
    }
   ],
   "source": [
    "from evdev import ecodes\n",
    "for event in device.read_loop() : \n",
    "    if event.type == ecodes.EV_KEY :  # 디지털 신호\n",
    "        if event.value == 1:    # 버튼 1/0 신호\n",
    "            print(event)\n",
    "            if event.code == 288 : \n",
    "                print(\"1 버튼 클릭\")      \n",
    "            elif event.code == 289 : \n",
    "                print(\"2 버튼 클릭\")                \n",
    "            elif event.code == 290 :   \n",
    "                print(\"3 버튼 클릭\")  \n",
    "            elif event.code == 291 : \n",
    "                print(\"4 버튼 클릭\")        \n",
    "            elif event.code == 292 :   \n",
    "                print(\"L1 버튼 클릭\")    \n",
    "            elif event.code == 293 :\n",
    "                print(\"R1 버튼 클릭\")      \n",
    "            elif event.code == 294 :\n",
    "                print(\"L2 버튼 클릭\")     \n",
    "            elif event.code == 295 :\n",
    "                print(\"R2 버튼 클릭\")                    \n",
    "            elif event.code == 296 :\n",
    "                print(\"Select 버튼 클릭\")      \n",
    "            elif event.code == 297 :\n",
    "                print(\"Start 버튼 클릭\") \n",
    "            elif event.code == 298 :\n",
    "                print(\"왼쪽 조이스틱 클릭\")    \n",
    "            elif event.code == 299 :\n",
    "                print(\"오른쪽 조이스틱 클릭\")"
   ]
  },
  {
   "cell_type": "code",
   "execution_count": 22,
   "metadata": {},
   "outputs": [
    {
     "name": "stdout",
     "output_type": "stream",
     "text": [
      "왼쪽 조이스틱 UP\n",
      "왼쪽 조이스틱 DOWN\n",
      "오른쪽 조이스틱 DOWN\n",
      "오른쪽 조이스틱 DOWN\n",
      "오른쪽 조이스틱 DOWN\n",
      "오른쪽 조이스틱 DOWN\n",
      "오른쪽 조이스틱 DOWN\n",
      "왼쪽 조이스틱 RIGHT\n",
      "오른쪽 조이스틱 DOWN\n"
     ]
    },
    {
     "ename": "KeyboardInterrupt",
     "evalue": "",
     "output_type": "error",
     "traceback": [
      "\u001b[0;31m---------------------------------------------------------------------------\u001b[0m",
      "\u001b[0;31mKeyboardInterrupt\u001b[0m                         Traceback (most recent call last)",
      "\u001b[0;32m<ipython-input-22-7bab39d8bab8>\u001b[0m in \u001b[0;36m<module>\u001b[0;34m\u001b[0m\n\u001b[1;32m      1\u001b[0m \u001b[0;32mfrom\u001b[0m \u001b[0mevdev\u001b[0m \u001b[0;32mimport\u001b[0m \u001b[0mecodes\u001b[0m\u001b[0;34m,\u001b[0m\u001b[0mcategorize\u001b[0m\u001b[0;34m\u001b[0m\u001b[0;34m\u001b[0m\u001b[0m\n\u001b[1;32m      2\u001b[0m \u001b[0;32mimport\u001b[0m \u001b[0mcustom\u001b[0m\u001b[0;34m\u001b[0m\u001b[0;34m\u001b[0m\u001b[0m\n\u001b[0;32m----> 3\u001b[0;31m \u001b[0;32mfor\u001b[0m \u001b[0mevent\u001b[0m \u001b[0;32min\u001b[0m \u001b[0mdevice\u001b[0m\u001b[0;34m.\u001b[0m\u001b[0mread_loop\u001b[0m\u001b[0;34m(\u001b[0m\u001b[0;34m)\u001b[0m \u001b[0;34m:\u001b[0m\u001b[0;34m\u001b[0m\u001b[0;34m\u001b[0m\u001b[0m\n\u001b[0m\u001b[1;32m      4\u001b[0m     \u001b[0;32mif\u001b[0m \u001b[0mevent\u001b[0m\u001b[0;34m.\u001b[0m\u001b[0mtype\u001b[0m \u001b[0;34m==\u001b[0m \u001b[0mecodes\u001b[0m\u001b[0;34m.\u001b[0m\u001b[0mEV_KEY\u001b[0m \u001b[0;34m:\u001b[0m  \u001b[0;31m# 디지털 신호\u001b[0m\u001b[0;34m\u001b[0m\u001b[0;34m\u001b[0m\u001b[0m\n\u001b[1;32m      5\u001b[0m         \u001b[0;32mif\u001b[0m \u001b[0mevent\u001b[0m\u001b[0;34m.\u001b[0m\u001b[0mvalue\u001b[0m \u001b[0;34m==\u001b[0m \u001b[0;36m1\u001b[0m\u001b[0;34m:\u001b[0m    \u001b[0;31m# 버튼 1/0 신호\u001b[0m\u001b[0;34m\u001b[0m\u001b[0;34m\u001b[0m\u001b[0m\n",
      "\u001b[0;32m/usr/lib/python3/dist-packages/evdev/eventio.py\u001b[0m in \u001b[0;36mread_loop\u001b[0;34m(self)\u001b[0m\n\u001b[1;32m     39\u001b[0m \u001b[0;34m\u001b[0m\u001b[0m\n\u001b[1;32m     40\u001b[0m         \u001b[0;32mwhile\u001b[0m \u001b[0;32mTrue\u001b[0m\u001b[0;34m:\u001b[0m\u001b[0;34m\u001b[0m\u001b[0;34m\u001b[0m\u001b[0m\n\u001b[0;32m---> 41\u001b[0;31m             \u001b[0mr\u001b[0m\u001b[0;34m,\u001b[0m \u001b[0mw\u001b[0m\u001b[0;34m,\u001b[0m \u001b[0mx\u001b[0m \u001b[0;34m=\u001b[0m \u001b[0mselect\u001b[0m\u001b[0;34m.\u001b[0m\u001b[0mselect\u001b[0m\u001b[0;34m(\u001b[0m\u001b[0;34m[\u001b[0m\u001b[0mself\u001b[0m\u001b[0;34m.\u001b[0m\u001b[0mfd\u001b[0m\u001b[0;34m]\u001b[0m\u001b[0;34m,\u001b[0m \u001b[0;34m[\u001b[0m\u001b[0;34m]\u001b[0m\u001b[0;34m,\u001b[0m \u001b[0;34m[\u001b[0m\u001b[0;34m]\u001b[0m\u001b[0;34m)\u001b[0m\u001b[0;34m\u001b[0m\u001b[0;34m\u001b[0m\u001b[0m\n\u001b[0m\u001b[1;32m     42\u001b[0m             \u001b[0;32mfor\u001b[0m \u001b[0mevent\u001b[0m \u001b[0;32min\u001b[0m \u001b[0mself\u001b[0m\u001b[0;34m.\u001b[0m\u001b[0mread\u001b[0m\u001b[0;34m(\u001b[0m\u001b[0;34m)\u001b[0m\u001b[0;34m:\u001b[0m\u001b[0;34m\u001b[0m\u001b[0;34m\u001b[0m\u001b[0m\n\u001b[1;32m     43\u001b[0m                 \u001b[0;32myield\u001b[0m \u001b[0mevent\u001b[0m\u001b[0;34m\u001b[0m\u001b[0;34m\u001b[0m\u001b[0m\n",
      "\u001b[0;31mKeyboardInterrupt\u001b[0m: "
     ]
    }
   ],
   "source": [
    "from evdev import ecodes,categorize\n",
    "import custom\n",
    "for event in device.read_loop() : \n",
    "    if event.type == ecodes.EV_KEY :  # 디지털 신호\n",
    "        if event.value == 1:    # 버튼 1/0 신호\n",
    "            print(event)\n",
    "            if event.code == 288 : \n",
    "                print(\"1 버튼 클릭\")      \n",
    "            elif event.code == 289 : \n",
    "                print(\"2 버튼 클릭\")                \n",
    "            elif event.code == 290 :   \n",
    "                print(\"3 버튼 클릭\")  \n",
    "            elif event.code == 291 : \n",
    "                print(\"4 버튼 클릭\")        \n",
    "            elif event.code == 292 :   \n",
    "                print(\"L1 버튼 클릭\")    \n",
    "            elif event.code == 293 :\n",
    "                print(\"R1 버튼 클릭\")      \n",
    "            elif event.code == 294 :\n",
    "                print(\"L2 버튼 클릭\")     \n",
    "            elif event.code == 295 :\n",
    "                print(\"R2 버튼 클릭\")                    \n",
    "            elif event.code == 296 :\n",
    "                print(\"Select 버튼 클릭\")      \n",
    "            elif event.code == 297 :\n",
    "                print(\"Start 버튼 클릭\") \n",
    "            elif event.code == 298 :\n",
    "                print(\"왼쪽 조이스틱 클릭\")    \n",
    "            elif event.code == 299 :\n",
    "                print(\"오른쪽 조이스틱 클릭\")\n",
    "    elif event.type == ecodes.EV_ABS:   # 아날로그 신호\n",
    "        absolute = categorize(event)\n",
    "        code = ecodes.bytype[absolute.event.type][absolute.event.code]\n",
    "        value = absolute.event.value\n",
    "#         print(code)  # ABS_Z, ABS_X, ABS_Y, ABX_RX, ABX_RZ\n",
    "        if code == \"ABS_Y\" : \n",
    "            if value == 0:\n",
    "                print(\"왼쪽 조이스틱 UP\")\n",
    "                custom.forward()\n",
    "            elif value == 255:\n",
    "                print(\"왼쪽 조이스틱 DOWN\")\n",
    "                custom.backward()\n",
    "        elif code == \"ABS_X\" :\n",
    "            if value == 0:\n",
    "                print(\"왼쪽 조이스틱 LEFT\")\n",
    "                custom.left()\n",
    "            elif value == 255:\n",
    "                print(\"왼쪽 조이스틱 RIGHT\")\n",
    "                custom.right()\n",
    "        elif code == \"ABS_RZ\":\n",
    "            if value == 0:\n",
    "                print(\"오른쪽 조이스틱 UP\")\n",
    "            elif value == 255:\n",
    "                print(\"오른쪽 조이스틱 DOWN\")\n",
    "                custom.stop()\n",
    "        elif code == \"ABS_RX\":\n",
    "            if value == 0:\n",
    "                print(\"오른쪽 조이스틱 LEFT\")\n",
    "            elif value == 255 :\n",
    "                print(\"오른쪽 조이스틱 RIGHT\")"
   ]
  },
  {
   "cell_type": "code",
   "execution_count": 21,
   "metadata": {},
   "outputs": [],
   "source": [
    "custom.stop()"
   ]
  },
  {
   "cell_type": "markdown",
   "metadata": {},
   "source": [
    "#### 머리도 움직여보기"
   ]
  },
  {
   "cell_type": "code",
   "execution_count": 28,
   "metadata": {},
   "outputs": [
    {
     "name": "stdout",
     "output_type": "stream",
     "text": [
      "serial Open!\n"
     ]
    }
   ],
   "source": [
    "# sudo chmod 777 /dev/ttyTHS1 \n",
    "from servoserial import ServoSerial\n",
    "import time\n",
    "servo = ServoSerial() "
   ]
  },
  {
   "cell_type": "code",
   "execution_count": 29,
   "metadata": {},
   "outputs": [],
   "source": [
    "# 여기에 사용자 정의 함수 선언해도 되고, head.py 만들고 불러와도 되고!\n",
    "# 중앙값 세팅\n",
    "# servo.Servo_serial_double_control(1, 3300, 2, 2150)\n",
    "\n",
    "# 1번 ServoMotor -> Pan\n",
    "# 2번 ServoMotor -> Tilt\n",
    "\n",
    "global pan, tilt\n",
    "pan = 3300\n",
    "tilt = 2150\n",
    "\n",
    "def pan_left():\n",
    "    global pan\n",
    "    pan += 100\n",
    "    servo.Servo_serial_control(1, pan)\n",
    "    \n",
    "def pan_right():\n",
    "    global pan\n",
    "    pan -= 100\n",
    "    servo.Servo_serial_control(1, pan)\n",
    "    \n",
    "def tilt_up():\n",
    "    global tilt\n",
    "    tilt += 100\n",
    "    servo.Servo_serial_control(2, tilt)\n",
    "    \n",
    "def tilt_down():\n",
    "    global tilt\n",
    "    tilt -= 100\n",
    "    servo.Servo_serial_control(2, tilt)\n",
    "    \n",
    "def center():\n",
    "    global pan, tilt\n",
    "    pan = 2100\n",
    "    tilt = 2700\n",
    "    servo.Servo_serial_double_control(1, pan, 2, tilt)"
   ]
  },
  {
   "cell_type": "code",
   "execution_count": 33,
   "metadata": {},
   "outputs": [
    {
     "name": "stdout",
     "output_type": "stream",
     "text": [
      "오른쪽 조이스틱 RIGHT\n",
      "7\n",
      "b'\\xff\\xff\\x01\\x07\\x03*\\r\\xac\\x00\\n\\x07'\n",
      "오른쪽 조이스틱 RIGHT\n",
      "107\n",
      "b'\\xff\\xff\\x01\\x07\\x03*\\rH\\x00\\nk'\n",
      "오른쪽 조이스틱 RIGHT\n",
      "208\n",
      "b'\\xff\\xff\\x01\\x07\\x03*\\x0c\\xe4\\x00\\n\\xd0'\n",
      "오른쪽 조이스틱 RIGHT\n",
      "52\n",
      "b'\\xff\\xff\\x01\\x07\\x03*\\x0c\\x80\\x00\\n4'\n"
     ]
    },
    {
     "ename": "KeyboardInterrupt",
     "evalue": "",
     "output_type": "error",
     "traceback": [
      "\u001b[0;31m---------------------------------------------------------------------------\u001b[0m",
      "\u001b[0;31mKeyboardInterrupt\u001b[0m                         Traceback (most recent call last)",
      "\u001b[0;32m<ipython-input-33-8150e3d0e2c0>\u001b[0m in \u001b[0;36m<module>\u001b[0;34m\u001b[0m\n\u001b[1;32m      1\u001b[0m \u001b[0;32mfrom\u001b[0m \u001b[0mevdev\u001b[0m \u001b[0;32mimport\u001b[0m \u001b[0mecodes\u001b[0m\u001b[0;34m,\u001b[0m\u001b[0mcategorize\u001b[0m\u001b[0;34m\u001b[0m\u001b[0;34m\u001b[0m\u001b[0m\n\u001b[1;32m      2\u001b[0m \u001b[0;32mimport\u001b[0m \u001b[0mcustom\u001b[0m\u001b[0;34m\u001b[0m\u001b[0;34m\u001b[0m\u001b[0m\n\u001b[0;32m----> 3\u001b[0;31m \u001b[0;32mfor\u001b[0m \u001b[0mevent\u001b[0m \u001b[0;32min\u001b[0m \u001b[0mdevice\u001b[0m\u001b[0;34m.\u001b[0m\u001b[0mread_loop\u001b[0m\u001b[0;34m(\u001b[0m\u001b[0;34m)\u001b[0m \u001b[0;34m:\u001b[0m\u001b[0;34m\u001b[0m\u001b[0;34m\u001b[0m\u001b[0m\n\u001b[0m\u001b[1;32m      4\u001b[0m     \u001b[0;32mif\u001b[0m \u001b[0mevent\u001b[0m\u001b[0;34m.\u001b[0m\u001b[0mtype\u001b[0m \u001b[0;34m==\u001b[0m \u001b[0mecodes\u001b[0m\u001b[0;34m.\u001b[0m\u001b[0mEV_KEY\u001b[0m \u001b[0;34m:\u001b[0m  \u001b[0;31m# 디지털 신호\u001b[0m\u001b[0;34m\u001b[0m\u001b[0;34m\u001b[0m\u001b[0m\n\u001b[1;32m      5\u001b[0m         \u001b[0;32mif\u001b[0m \u001b[0mevent\u001b[0m\u001b[0;34m.\u001b[0m\u001b[0mvalue\u001b[0m \u001b[0;34m==\u001b[0m \u001b[0;36m1\u001b[0m\u001b[0;34m:\u001b[0m    \u001b[0;31m# 버튼 1/0 신호\u001b[0m\u001b[0;34m\u001b[0m\u001b[0;34m\u001b[0m\u001b[0m\n",
      "\u001b[0;32m/usr/lib/python3/dist-packages/evdev/eventio.py\u001b[0m in \u001b[0;36mread_loop\u001b[0;34m(self)\u001b[0m\n\u001b[1;32m     39\u001b[0m \u001b[0;34m\u001b[0m\u001b[0m\n\u001b[1;32m     40\u001b[0m         \u001b[0;32mwhile\u001b[0m \u001b[0;32mTrue\u001b[0m\u001b[0;34m:\u001b[0m\u001b[0;34m\u001b[0m\u001b[0;34m\u001b[0m\u001b[0m\n\u001b[0;32m---> 41\u001b[0;31m             \u001b[0mr\u001b[0m\u001b[0;34m,\u001b[0m \u001b[0mw\u001b[0m\u001b[0;34m,\u001b[0m \u001b[0mx\u001b[0m \u001b[0;34m=\u001b[0m \u001b[0mselect\u001b[0m\u001b[0;34m.\u001b[0m\u001b[0mselect\u001b[0m\u001b[0;34m(\u001b[0m\u001b[0;34m[\u001b[0m\u001b[0mself\u001b[0m\u001b[0;34m.\u001b[0m\u001b[0mfd\u001b[0m\u001b[0;34m]\u001b[0m\u001b[0;34m,\u001b[0m \u001b[0;34m[\u001b[0m\u001b[0;34m]\u001b[0m\u001b[0;34m,\u001b[0m \u001b[0;34m[\u001b[0m\u001b[0;34m]\u001b[0m\u001b[0;34m)\u001b[0m\u001b[0;34m\u001b[0m\u001b[0;34m\u001b[0m\u001b[0m\n\u001b[0m\u001b[1;32m     42\u001b[0m             \u001b[0;32mfor\u001b[0m \u001b[0mevent\u001b[0m \u001b[0;32min\u001b[0m \u001b[0mself\u001b[0m\u001b[0;34m.\u001b[0m\u001b[0mread\u001b[0m\u001b[0;34m(\u001b[0m\u001b[0;34m)\u001b[0m\u001b[0;34m:\u001b[0m\u001b[0;34m\u001b[0m\u001b[0;34m\u001b[0m\u001b[0m\n\u001b[1;32m     43\u001b[0m                 \u001b[0;32myield\u001b[0m \u001b[0mevent\u001b[0m\u001b[0;34m\u001b[0m\u001b[0;34m\u001b[0m\u001b[0m\n",
      "\u001b[0;31mKeyboardInterrupt\u001b[0m: "
     ]
    }
   ],
   "source": [
    "from evdev import ecodes,categorize\n",
    "import custom\n",
    "for event in device.read_loop() : \n",
    "    if event.type == ecodes.EV_KEY :  # 디지털 신호\n",
    "        if event.value == 1:    # 버튼 1/0 신호\n",
    "            print(event)\n",
    "            if event.code == 288 : \n",
    "                print(\"1 버튼 클릭\")      \n",
    "            elif event.code == 289 : \n",
    "                print(\"2 버튼 클릭\")                \n",
    "            elif event.code == 290 :   \n",
    "                print(\"3 버튼 클릭\")  \n",
    "            elif event.code == 291 : \n",
    "                print(\"4 버튼 클릭\")        \n",
    "            elif event.code == 292 :   \n",
    "                print(\"L1 버튼 클릭\")    \n",
    "            elif event.code == 293 :\n",
    "                print(\"R1 버튼 클릭\")      \n",
    "            elif event.code == 294 :\n",
    "                print(\"L2 버튼 클릭\")     \n",
    "            elif event.code == 295 :\n",
    "                print(\"R2 버튼 클릭\")                    \n",
    "            elif event.code == 296 :\n",
    "                print(\"Select 버튼 클릭\")      \n",
    "            elif event.code == 297 :\n",
    "                print(\"Start 버튼 클릭\") \n",
    "            elif event.code == 298 :\n",
    "                print(\"왼쪽 조이스틱 클릭\")    \n",
    "            elif event.code == 299 :\n",
    "                print(\"오른쪽 조이스틱 클릭\")\n",
    "    elif event.type == ecodes.EV_ABS:   # 아날로그 신호\n",
    "        absolute = categorize(event)\n",
    "        code = ecodes.bytype[absolute.event.type][absolute.event.code]\n",
    "        value = absolute.event.value\n",
    "#         print(code)  # ABS_Z, ABS_X, ABS_Y, ABX_RX, ABX_RZ\n",
    "        if code == \"ABS_Y\" : \n",
    "            if value == 0:\n",
    "                print(\"왼쪽 조이스틱 UP\")\n",
    "                custom.forward()\n",
    "            elif value == 255:\n",
    "                print(\"왼쪽 조이스틱 DOWN\")\n",
    "                custom.backward()\n",
    "        elif code == \"ABS_X\" :\n",
    "            if value == 0:\n",
    "                print(\"왼쪽 조이스틱 LEFT\")\n",
    "                custom.left()\n",
    "            elif value == 255:\n",
    "                print(\"왼쪽 조이스틱 RIGHT\")\n",
    "                custom.right()\n",
    "        elif code == \"ABS_RZ\":\n",
    "            if value == 0:\n",
    "                print(\"오른쪽 조이스틱 UP\")\n",
    "                tilt_up()\n",
    "            elif value == 255:\n",
    "                print(\"오른쪽 조이스틱 DOWN\")\n",
    "                custom.stop()\n",
    "                tilt_down()\n",
    "        elif code == \"ABS_RX\":\n",
    "            if value == 0:\n",
    "                print(\"오른쪽 조이스틱 LEFT\")\n",
    "                pan_left()\n",
    "            elif value == 255 :\n",
    "                print(\"오른쪽 조이스틱 RIGHT\")\n",
    "                pan_right()"
   ]
  },
  {
   "cell_type": "code",
   "execution_count": null,
   "metadata": {},
   "outputs": [],
   "source": []
  }
 ],
 "metadata": {
  "kernelspec": {
   "display_name": "Python 3",
   "language": "python",
   "name": "python3"
  },
  "language_info": {
   "codemirror_mode": {
    "name": "ipython",
    "version": 3
   },
   "file_extension": ".py",
   "mimetype": "text/x-python",
   "name": "python",
   "nbconvert_exporter": "python",
   "pygments_lexer": "ipython3",
   "version": "3.6.9"
  }
 },
 "nbformat": 4,
 "nbformat_minor": 4
}
