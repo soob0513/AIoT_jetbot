{
 "cells": [
  {
   "cell_type": "markdown",
   "metadata": {},
   "source": [
    "### JoyStick\n",
    "- 1) 다이렉트로 연결 제어\n",
    "- 2) 무선으로 연결 제어"
   ]
  },
  {
   "cell_type": "code",
   "execution_count": null,
   "metadata": {},
   "outputs": [],
   "source": [
    "# jstest 찾을 수 없다 오류\n",
    "# 조이스틱 관련 라이브러리 설치하기\n",
    "# js0에서 발생하는 이벤트를 사용자가 접근할 수 있도록 파이썬에서 사용하는 라이브러리\n",
    "# sudo apt-get install python3-evdev"
   ]
  },
  {
   "cell_type": "code",
   "execution_count": 5,
   "metadata": {},
   "outputs": [
    {
     "name": "stdout",
     "output_type": "stream",
     "text": [
      "['/dev/input/event5']\n"
     ]
    }
   ],
   "source": [
    "import evdev\n",
    "print(evdev.list_devices())"
   ]
  },
  {
   "cell_type": "code",
   "execution_count": 6,
   "metadata": {},
   "outputs": [
    {
     "data": {
      "text/plain": [
       "InputDevice('/dev/input/event5')"
      ]
     },
     "execution_count": 6,
     "metadata": {},
     "output_type": "execute_result"
    }
   ],
   "source": [
    "path = '/dev/input/event5'\n",
    "device = evdev.InputDevice(path)\n",
    "device"
   ]
  },
  {
   "cell_type": "code",
   "execution_count": null,
   "metadata": {},
   "outputs": [
    {
     "name": "stdout",
     "output_type": "stream",
     "text": [
      "event at 1718938166.291164, code 289, type 01, val 01\n",
      "2 버튼 클릭\n",
      "event at 1718938167.771189, code 288, type 01, val 01\n",
      "1 버튼 클릭\n",
      "event at 1718938168.275216, code 291, type 01, val 01\n",
      "4 버튼 클릭\n",
      "event at 1718938168.691178, code 290, type 01, val 01\n",
      "3 버튼 클릭\n",
      "event at 1718938169.155233, code 289, type 01, val 01\n",
      "2 버튼 클릭\n",
      "event at 1718938170.115409, code 294, type 01, val 01\n",
      "L2 버튼 클릭\n",
      "event at 1718938171.507183, code 296, type 01, val 01\n",
      "Select 버튼 클릭\n",
      "event at 1718938173.867248, code 297, type 01, val 01\n",
      "Start 버튼 클릭\n",
      "event at 1718938175.531267, code 293, type 01, val 01\n",
      "R1 버튼 클릭\n",
      "event at 1718938175.963268, code 294, type 01, val 01\n",
      "L2 버튼 클릭\n",
      "event at 1718938190.339698, code 298, type 01, val 01\n",
      "왼쪽 조이스틱 클릭\n",
      "event at 1718938192.027403, code 299, type 01, val 01\n",
      "오른쪽 조이스틱 클릭\n",
      "event at 1718938193.139783, code 298, type 01, val 01\n",
      "왼쪽 조이스틱 클릭\n",
      "event at 1718938197.859503, code 297, type 01, val 01\n",
      "Start 버튼 클릭\n"
     ]
    }
   ],
   "source": [
    "from evdev import ecodes\n",
    "for event in device.read_loop() : \n",
    "    if event.type == ecodes.EV_KEY : \n",
    "        if event.value == 1:\n",
    "            print(event)\n",
    "            if event.code == 288 : \n",
    "                print(\"1 버튼 클릭\")      \n",
    "            elif event.code == 289 : \n",
    "                print(\"2 버튼 클릭\")                \n",
    "            elif event.code == 290 :   \n",
    "                print(\"3 버튼 클릭\")  \n",
    "            elif event.code == 291 : \n",
    "                print(\"4 버튼 클릭\")        \n",
    "            elif event.code == 292 :   \n",
    "                print(\"L1 버튼 클릭\")    \n",
    "            elif event.code == 293 :\n",
    "                print(\"R1 버튼 클릭\")      \n",
    "            elif event.code == 294 :\n",
    "                print(\"L2 버튼 클릭\")     \n",
    "            elif event.code == 295 :\n",
    "                print(\"R2 버튼 클릭\")                    \n",
    "            elif event.code == 296 :\n",
    "                print(\"Select 버튼 클릭\")      \n",
    "            elif event.code == 297 :\n",
    "                print(\"Start 버튼 클릭\") \n",
    "            elif event.code == 298 :\n",
    "                print(\"왼쪽 조이스틱 클릭\")    \n",
    "            elif event.code == 299 :\n",
    "                print(\"오른쪽 조이스틱 클릭\")"
   ]
  }
 ],
 "metadata": {
  "kernelspec": {
   "display_name": "Python 3",
   "language": "python",
   "name": "python3"
  },
  "language_info": {
   "codemirror_mode": {
    "name": "ipython",
    "version": 3
   },
   "file_extension": ".py",
   "mimetype": "text/x-python",
   "name": "python",
   "nbconvert_exporter": "python",
   "pygments_lexer": "ipython3",
   "version": "3.6.9"
  }
 },
 "nbformat": 4,
 "nbformat_minor": 4
}
